{
  "nbformat": 4,
  "nbformat_minor": 0,
  "metadata": {
    "colab": {
      "provenance": [],
      "authorship_tag": "ABX9TyN5dGfb+x3a0SySFfYvFdkh",
      "include_colab_link": true
    },
    "kernelspec": {
      "name": "python3",
      "display_name": "Python 3"
    },
    "language_info": {
      "name": "python"
    }
  },
  "cells": [
    {
      "cell_type": "markdown",
      "metadata": {
        "id": "view-in-github",
        "colab_type": "text"
      },
      "source": [
        "<a href=\"https://colab.research.google.com/github/maxs026/esd-python/blob/main/%C3%87ajoue_le%20quiz-foot.ipynb\" target=\"_parent\"><img src=\"https://colab.research.google.com/assets/colab-badge.svg\" alt=\"Open In Colab\"/></a>"
      ]
    },
    {
      "cell_type": "code",
      "source": [
        "# Quiz sur le football avec niveaux de difficulté\n",
        "\n",
        "def poser_question(question, reponse):\n",
        "    \"\"\"Pose une question et vérifie si la réponse est correcte.\"\"\"\n",
        "    reponse_utilisateur = input(question + \" \")\n",
        "    return reponse_utilisateur.lower() == reponse.lower()\n",
        "\n",
        "# Questions classées par niveau de difficulté\n",
        "questions_par_difficulte = {\n",
        "    \"Sans forcer\": [\n",
        "        (\"Qui a remporté la Coupe du Monde de la FIFA en 2018 ?\", \"France\"),\n",
        "        (\"Dans quel pays le football est-il originaire ?\", \"Angleterre\"),\n",
        "        (\"Quelle est la compétition phare en Europe ?\", \"La ligue des Champions\"),\n",
        "        (\"Quel est le surnom de l'équipe nationale d'Argentine ?\", \"Albiceleste\"),\n",
        "        (\"Combien de joueurs y a-t-il dans une équipe de football sur le terrain ?\", \"11\"),\n",
        "        (\"Quel pays a inventé le football ?\", \"Angleterre\"),\n",
        "        (\"Quelle couleur est traditionnellement associée à l'équipe d'Italie ?\", \"Bleu\"),\n",
        "        (\"Quel est le nom du trophée remis au vainqueur de la Coupe du Monde ?\", \"Coupe du Monde de la FIFA\"),\n",
        "        (\"Quel est le format standard d'un match de football (en minutes) ?\", \"90\"),\n",
        "\n",
        "    ],\n",
        "    \"moyen\": [\n",
        "        (\"Quel joueur a marqué le plus de buts en Coupe du Monde ?\", \"Klose\"),\n",
        "        (\"Quel est le nombre maximum de joueurs qu'une équipe de football peut avoir sur le terrain ?\", \"11\"),\n",
        "        (\"Quel est le nombre maximum de changements qu'une équipe de football peut faire sur un match ?\", \"5\"),\n",
        "        (\"Quel pays a remporté le plus de Coupes du Monde ?\", \"Brésil\"),\n",
        "        (\"Qui a gagné le Ballon d'Or en 2000 ?\", \"Luis Figo\"),\n",
        "        (\"Quelle équipe est surnommée les 'Red Devils' ?\", \"Manchester United\"),\n",
        "        (\"Dans quel pays la Coupe du Monde 2022 a-t-elle eu lieu ?\", \"Qatar\"),\n",
        "        (\"Quel est le record du monde de la plus large victoire dans un match international de football ?\", \"31-0\"),\n",
        "        (\"Quel pays a inventé la tactique du 'Total Football' ?\", \"Pays-Bas\"),\n",
        "        (\"Quel joueur est connu comme 'Le Roi du Football' ?\", \"Pelé\"),\n",
        "        (\"Quelle équipe a remporté l'UEFA Champions League en 2005 après avoir été menée 3-0 à la mi-temps ?\", \"Liverpool\"),\n",
        "\n",
        "    ],\n",
        "    \"Terrible !\": [\n",
        "        (\"Qui a gagné le Ballon d'Or en 2021 ?\", \"Messi\"),\n",
        "        (\"Quelle équipe détient le record de défaites d'affilées (13) en UEFA Champions League ?\", \"Olympique de Marseille\"),\n",
        "        (\"Quel est le nombre maximum de changements qu'une équipe de football peut faire sur un match ?\", \"5\"),\n",
        "        (\"Qui était le capitaine de l'équipe d'Espagne championne du monde en 2010 ?\", \"Iker Casillas\"),\n",
        "        (\"Quel est le club le plus titré de l'UEFA Champions League ?\", \"Real Madrid\"),\n",
        "        (\"Quel joueur détient le record pour le plus grand nombre de buts en une saison de Premier League ?\", \"Mohamed Salah\"),\n",
        "        (\"Quelle équipe a gagné la première Coupe du Monde de la FIFA ?\", \"Uruguay\"),\n",
        "        (\"Qui a inventé la 'Main de Dieu' ?\", \"Diego Maradona\"),\n",
        "        (\"Quel est le seul joueur à avoir remporté trois Coupes du Monde ?\", \"Pelé\"),\n",
        "        (\"Quel pays a organisé la Coupe du Monde en 2006 ?\", \"Allemagne\"),\n",
        "        (\"Quel joueur a été transféré pour le montant le plus élevé dans l'histoire du football ?\", \"Neymar\"),\n",
        "\n",
        "    ]\n",
        "}\n",
        "\n",
        "# Demander à l'utilisateur de choisir le niveau de difficulté\n",
        "niveau = \"\"\n",
        "while niveau not in questions_par_difficulte:\n",
        "    print(\"Choisissez un niveau de difficulté : Sans forcer, Moyen, Terrible !\")\n",
        "    niveau = input().lower()\n",
        "\n",
        "# Récupérer les questions pour le niveau choisi\n",
        "questions_et_reponses = questions_par_difficulte[niveau]\n",
        "\n",
        "score = 0\n",
        "\n",
        "# Boucle à travers chaque question du niveau choisi\n",
        "for question, reponse in questions_et_reponses:\n",
        "    if poser_question(question, reponse):\n",
        "        print(\"Oh ouais ouais ouais c'est gagné ! !\")\n",
        "        score += 1\n",
        "    else:\n",
        "        print(\"La lose ! Ce n'est pas correct.\")\n",
        "    print()\n",
        "\n",
        "print(f\"Quiz finito ! Voilà ton score de {score} sur {len(questions_et_reponses)}.\")\n"
      ],
      "metadata": {
        "colab": {
          "base_uri": "https://localhost:8080/"
        },
        "id": "JHfDOlzrRBQM",
        "outputId": "6f4950c2-40ae-4f61-91e4-0c6e7eabe62f"
      },
      "execution_count": 3,
      "outputs": [
        {
          "output_type": "stream",
          "name": "stdout",
          "text": [
            "Choisissez un niveau de difficulté : facile, moyen, difficile\n",
            "moyen\n",
            "Quel joueur a marqué le plus de buts en Coupe du Monde ? miroslav kloze\n",
            "Désolé, ce n'est pas correct.\n",
            "\n",
            "Quel est le nombre maximum de joueurs qu'une équipe de football peut avoir sur le terrain ? 11\n",
            "Correct !\n",
            "\n",
            "Quel est le nombre maximum de changements qu'une équipe de football peut faire sur un match ? 5\n",
            "Correct !\n",
            "\n",
            "Quel pays a remporté le plus de Coupes du Monde ? Brésil\n",
            "Correct !\n",
            "\n",
            "Qui a gagné le Ballon d'Or en 2000 ? Figo\n",
            "Désolé, ce n'est pas correct.\n",
            "\n",
            "Quelle équipe est surnommée les 'Red Devils' ? Manchester United\n",
            "Correct !\n",
            "\n",
            "Dans quel pays la Coupe du Monde 2022 a-t-elle eu lieu ? Qatar\n",
            "Correct !\n",
            "\n",
            "Quel est le record du monde de la plus large victoire dans un match international de football ? 31-0\n",
            "Correct !\n",
            "\n",
            "Qui a inventé la tactique du 'Total Football' ? Pays-Bas\n",
            "Correct !\n",
            "\n",
            "Quel joueur est connu comme 'Le Roi du Football' ? Pelé\n",
            "Correct !\n",
            "\n",
            "Quelle équipe a remporté l'UEFA Champions League en 2005 après avoir été menée 3-0 à la mi-temps ? Liverpool\n",
            "Correct !\n",
            "\n",
            "Quiz terminé ! Votre score est de 9 sur 11.\n"
          ]
        }
      ]
    },
    {
      "cell_type": "code",
      "source": [],
      "metadata": {
        "id": "NN1-okH1SYkq"
      },
      "execution_count": null,
      "outputs": []
    }
  ]
}
